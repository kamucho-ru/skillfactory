{
 "cells": [
  {
   "cell_type": "code",
   "execution_count": 1,
   "metadata": {
    "_cell_guid": "b1076dfc-b9ad-4769-8c92-a6c4dae69d19",
    "_uuid": "8f2839f25d086af736a60e9eeb907d3b93b6e0e5",
    "colab": {},
    "colab_type": "code",
    "id": "U2D2gTdJVp90",
    "tags": []
   },
   "outputs": [],
   "source": [
    "import numpy as np\n",
    "import pandas as pd\n",
    "import seaborn as sns\n",
    "import matplotlib.pyplot as plt\n",
    "from collections import Counter\n",
    "from itertools import combinations\n",
    "import operator\n",
    "import calendar"
   ]
  },
  {
   "cell_type": "code",
   "execution_count": 2,
   "metadata": {
    "_cell_guid": "79c7e3d0-c299-4dcb-8224-4455121ee9b0",
    "_uuid": "d629ff2d2480ee46fbb7e2d37f6b5fab8052498a",
    "colab": {},
    "colab_type": "code",
    "id": "oyGfxL3eVp9-"
   },
   "outputs": [
    {
     "data": {
      "text/html": [
       "<div>\n",
       "<style scoped>\n",
       "    .dataframe tbody tr th:only-of-type {\n",
       "        vertical-align: middle;\n",
       "    }\n",
       "\n",
       "    .dataframe tbody tr th {\n",
       "        vertical-align: top;\n",
       "    }\n",
       "\n",
       "    .dataframe thead th {\n",
       "        text-align: right;\n",
       "    }\n",
       "</style>\n",
       "<table border=\"1\" class=\"dataframe\">\n",
       "  <thead>\n",
       "    <tr style=\"text-align: right;\">\n",
       "      <th></th>\n",
       "      <th>imdb_id</th>\n",
       "      <th>budget</th>\n",
       "      <th>revenue</th>\n",
       "      <th>original_title</th>\n",
       "      <th>cast</th>\n",
       "      <th>director</th>\n",
       "      <th>tagline</th>\n",
       "      <th>overview</th>\n",
       "      <th>runtime</th>\n",
       "      <th>genres</th>\n",
       "      <th>production_companies</th>\n",
       "      <th>release_date</th>\n",
       "      <th>vote_average</th>\n",
       "      <th>release_year</th>\n",
       "    </tr>\n",
       "  </thead>\n",
       "  <tbody>\n",
       "    <tr>\n",
       "      <th>914</th>\n",
       "      <td>tt0268126</td>\n",
       "      <td>19000000</td>\n",
       "      <td>32801173</td>\n",
       "      <td>Adaptation.</td>\n",
       "      <td>Nicolas Cage|Meryl Streep|Chris Cooper|Tilda S...</td>\n",
       "      <td>Spike Jonze</td>\n",
       "      <td>Charlie Kaufman writes the way he lives... Wit...</td>\n",
       "      <td>A love-lorn script writer grows increasingly d...</td>\n",
       "      <td>114</td>\n",
       "      <td>Comedy|Crime|Drama</td>\n",
       "      <td>Columbia Pictures|Beverly Detroit|Propaganda F...</td>\n",
       "      <td>12/6/2002</td>\n",
       "      <td>7.2</td>\n",
       "      <td>2002</td>\n",
       "    </tr>\n",
       "    <tr>\n",
       "      <th>1706</th>\n",
       "      <td>tt0463854</td>\n",
       "      <td>15000000</td>\n",
       "      <td>64238440</td>\n",
       "      <td>28 Weeks Later</td>\n",
       "      <td>Imogen Poots|Robert Carlyle|Rose Byrne|Jeremy ...</td>\n",
       "      <td>Juan Carlos Fresnadillo</td>\n",
       "      <td>When days turn to weeks... the horror returns.</td>\n",
       "      <td>In this chilling sequel to 28 Days Later, the ...</td>\n",
       "      <td>100</td>\n",
       "      <td>Horror|Thriller|Science Fiction</td>\n",
       "      <td>DNA Films|Figment Films|Sociedad General de Ci...</td>\n",
       "      <td>4/26/2007</td>\n",
       "      <td>6.3</td>\n",
       "      <td>2007</td>\n",
       "    </tr>\n",
       "    <tr>\n",
       "      <th>147</th>\n",
       "      <td>tt0831387</td>\n",
       "      <td>160000000</td>\n",
       "      <td>529076069</td>\n",
       "      <td>Godzilla</td>\n",
       "      <td>Aaron Taylor-Johnson|Ken Watanabe|Elizabeth Ol...</td>\n",
       "      <td>Gareth Edwards</td>\n",
       "      <td>A king's arrival is never silent.</td>\n",
       "      <td>Fifteen years after an 'incident' at a Japanes...</td>\n",
       "      <td>123</td>\n",
       "      <td>Action|Science Fiction|Thriller</td>\n",
       "      <td>Toho Company|Legendary Pictures|Warner Bros.|D...</td>\n",
       "      <td>5/14/2014</td>\n",
       "      <td>6.2</td>\n",
       "      <td>2014</td>\n",
       "    </tr>\n",
       "    <tr>\n",
       "      <th>406</th>\n",
       "      <td>tt1279935</td>\n",
       "      <td>55000000</td>\n",
       "      <td>152263880</td>\n",
       "      <td>Date Night</td>\n",
       "      <td>Steve Carell|Tina Fey|Mark Wahlberg|Taraji P. ...</td>\n",
       "      <td>Shawn Levy</td>\n",
       "      <td>One ordinary couple. One little white lie.</td>\n",
       "      <td>The mild-mannered married couple Phil and Clai...</td>\n",
       "      <td>97</td>\n",
       "      <td>Comedy</td>\n",
       "      <td>Twentieth Century Fox Film Corporation|Dune En...</td>\n",
       "      <td>4/8/2010</td>\n",
       "      <td>5.9</td>\n",
       "      <td>2010</td>\n",
       "    </tr>\n",
       "    <tr>\n",
       "      <th>1749</th>\n",
       "      <td>tt0462244</td>\n",
       "      <td>6000000</td>\n",
       "      <td>18197398</td>\n",
       "      <td>Daddy Day Camp</td>\n",
       "      <td>Cuba Gooding Jr.|Tamala Jones|Paul Rae|Lochlyn...</td>\n",
       "      <td>Fred Savage</td>\n",
       "      <td>The summer is going to be in tents.</td>\n",
       "      <td>Seeking to offer his son the satisfying summer...</td>\n",
       "      <td>89</td>\n",
       "      <td>Comedy|Family</td>\n",
       "      <td>Revolution Studios|TriStar Pictures</td>\n",
       "      <td>8/8/2007</td>\n",
       "      <td>4.8</td>\n",
       "      <td>2007</td>\n",
       "    </tr>\n",
       "  </tbody>\n",
       "</table>\n",
       "</div>"
      ],
      "text/plain": [
       "        imdb_id     budget    revenue  original_title  \\\n",
       "914   tt0268126   19000000   32801173     Adaptation.   \n",
       "1706  tt0463854   15000000   64238440  28 Weeks Later   \n",
       "147   tt0831387  160000000  529076069        Godzilla   \n",
       "406   tt1279935   55000000  152263880      Date Night   \n",
       "1749  tt0462244    6000000   18197398  Daddy Day Camp   \n",
       "\n",
       "                                                   cast  \\\n",
       "914   Nicolas Cage|Meryl Streep|Chris Cooper|Tilda S...   \n",
       "1706  Imogen Poots|Robert Carlyle|Rose Byrne|Jeremy ...   \n",
       "147   Aaron Taylor-Johnson|Ken Watanabe|Elizabeth Ol...   \n",
       "406   Steve Carell|Tina Fey|Mark Wahlberg|Taraji P. ...   \n",
       "1749  Cuba Gooding Jr.|Tamala Jones|Paul Rae|Lochlyn...   \n",
       "\n",
       "                     director  \\\n",
       "914               Spike Jonze   \n",
       "1706  Juan Carlos Fresnadillo   \n",
       "147            Gareth Edwards   \n",
       "406                Shawn Levy   \n",
       "1749              Fred Savage   \n",
       "\n",
       "                                                tagline  \\\n",
       "914   Charlie Kaufman writes the way he lives... Wit...   \n",
       "1706     When days turn to weeks... the horror returns.   \n",
       "147                   A king's arrival is never silent.   \n",
       "406          One ordinary couple. One little white lie.   \n",
       "1749                The summer is going to be in tents.   \n",
       "\n",
       "                                               overview  runtime  \\\n",
       "914   A love-lorn script writer grows increasingly d...      114   \n",
       "1706  In this chilling sequel to 28 Days Later, the ...      100   \n",
       "147   Fifteen years after an 'incident' at a Japanes...      123   \n",
       "406   The mild-mannered married couple Phil and Clai...       97   \n",
       "1749  Seeking to offer his son the satisfying summer...       89   \n",
       "\n",
       "                               genres  \\\n",
       "914                Comedy|Crime|Drama   \n",
       "1706  Horror|Thriller|Science Fiction   \n",
       "147   Action|Science Fiction|Thriller   \n",
       "406                            Comedy   \n",
       "1749                    Comedy|Family   \n",
       "\n",
       "                                   production_companies release_date  \\\n",
       "914   Columbia Pictures|Beverly Detroit|Propaganda F...    12/6/2002   \n",
       "1706  DNA Films|Figment Films|Sociedad General de Ci...    4/26/2007   \n",
       "147   Toho Company|Legendary Pictures|Warner Bros.|D...    5/14/2014   \n",
       "406   Twentieth Century Fox Film Corporation|Dune En...     4/8/2010   \n",
       "1749                Revolution Studios|TriStar Pictures     8/8/2007   \n",
       "\n",
       "      vote_average  release_year  \n",
       "914            7.2          2002  \n",
       "1706           6.3          2007  \n",
       "147            6.2          2014  \n",
       "406            5.9          2010  \n",
       "1749           4.8          2007  "
      ]
     },
     "execution_count": 2,
     "metadata": {},
     "output_type": "execute_result"
    }
   ],
   "source": [
    "data = pd.read_csv('movie_bd_v5.csv')\n",
    "data.sample(5)"
   ]
  },
  {
   "cell_type": "code",
   "execution_count": 3,
   "metadata": {
    "colab": {},
    "colab_type": "code",
    "id": "CoYUnagMVp-C"
   },
   "outputs": [
    {
     "data": {
      "text/html": [
       "<div>\n",
       "<style scoped>\n",
       "    .dataframe tbody tr th:only-of-type {\n",
       "        vertical-align: middle;\n",
       "    }\n",
       "\n",
       "    .dataframe tbody tr th {\n",
       "        vertical-align: top;\n",
       "    }\n",
       "\n",
       "    .dataframe thead th {\n",
       "        text-align: right;\n",
       "    }\n",
       "</style>\n",
       "<table border=\"1\" class=\"dataframe\">\n",
       "  <thead>\n",
       "    <tr style=\"text-align: right;\">\n",
       "      <th></th>\n",
       "      <th>budget</th>\n",
       "      <th>revenue</th>\n",
       "      <th>runtime</th>\n",
       "      <th>vote_average</th>\n",
       "      <th>release_year</th>\n",
       "    </tr>\n",
       "  </thead>\n",
       "  <tbody>\n",
       "    <tr>\n",
       "      <th>count</th>\n",
       "      <td>1.889000e+03</td>\n",
       "      <td>1.889000e+03</td>\n",
       "      <td>1889.000000</td>\n",
       "      <td>1889.000000</td>\n",
       "      <td>1889.000000</td>\n",
       "    </tr>\n",
       "    <tr>\n",
       "      <th>mean</th>\n",
       "      <td>5.431083e+07</td>\n",
       "      <td>1.553653e+08</td>\n",
       "      <td>109.658549</td>\n",
       "      <td>6.140762</td>\n",
       "      <td>2007.860773</td>\n",
       "    </tr>\n",
       "    <tr>\n",
       "      <th>std</th>\n",
       "      <td>4.858721e+07</td>\n",
       "      <td>2.146698e+08</td>\n",
       "      <td>18.017041</td>\n",
       "      <td>0.764763</td>\n",
       "      <td>4.468841</td>\n",
       "    </tr>\n",
       "    <tr>\n",
       "      <th>min</th>\n",
       "      <td>5.000000e+06</td>\n",
       "      <td>2.033165e+06</td>\n",
       "      <td>63.000000</td>\n",
       "      <td>3.300000</td>\n",
       "      <td>2000.000000</td>\n",
       "    </tr>\n",
       "    <tr>\n",
       "      <th>25%</th>\n",
       "      <td>2.000000e+07</td>\n",
       "      <td>3.456058e+07</td>\n",
       "      <td>97.000000</td>\n",
       "      <td>5.600000</td>\n",
       "      <td>2004.000000</td>\n",
       "    </tr>\n",
       "    <tr>\n",
       "      <th>50%</th>\n",
       "      <td>3.800000e+07</td>\n",
       "      <td>8.361541e+07</td>\n",
       "      <td>107.000000</td>\n",
       "      <td>6.100000</td>\n",
       "      <td>2008.000000</td>\n",
       "    </tr>\n",
       "    <tr>\n",
       "      <th>75%</th>\n",
       "      <td>7.200000e+07</td>\n",
       "      <td>1.782626e+08</td>\n",
       "      <td>120.000000</td>\n",
       "      <td>6.600000</td>\n",
       "      <td>2012.000000</td>\n",
       "    </tr>\n",
       "    <tr>\n",
       "      <th>max</th>\n",
       "      <td>3.800000e+08</td>\n",
       "      <td>2.781506e+09</td>\n",
       "      <td>214.000000</td>\n",
       "      <td>8.100000</td>\n",
       "      <td>2015.000000</td>\n",
       "    </tr>\n",
       "  </tbody>\n",
       "</table>\n",
       "</div>"
      ],
      "text/plain": [
       "             budget       revenue      runtime  vote_average  release_year\n",
       "count  1.889000e+03  1.889000e+03  1889.000000   1889.000000   1889.000000\n",
       "mean   5.431083e+07  1.553653e+08   109.658549      6.140762   2007.860773\n",
       "std    4.858721e+07  2.146698e+08    18.017041      0.764763      4.468841\n",
       "min    5.000000e+06  2.033165e+06    63.000000      3.300000   2000.000000\n",
       "25%    2.000000e+07  3.456058e+07    97.000000      5.600000   2004.000000\n",
       "50%    3.800000e+07  8.361541e+07   107.000000      6.100000   2008.000000\n",
       "75%    7.200000e+07  1.782626e+08   120.000000      6.600000   2012.000000\n",
       "max    3.800000e+08  2.781506e+09   214.000000      8.100000   2015.000000"
      ]
     },
     "execution_count": 3,
     "metadata": {},
     "output_type": "execute_result"
    }
   ],
   "source": [
    "data.describe()"
   ]
  },
  {
   "cell_type": "markdown",
   "metadata": {
    "colab_type": "text",
    "id": "DTIt7ezGVp-G"
   },
   "source": [
    "# Предобработка"
   ]
  },
  {
   "cell_type": "code",
   "execution_count": 4,
   "metadata": {
    "colab": {},
    "colab_type": "code",
    "id": "jNb40DwKVp-H"
   },
   "outputs": [],
   "source": [
    "answers = {} # создадим словарь для ответов\n",
    "\n",
    "# добавим новые колонки\n",
    "data['profit'] = data['revenue'] - data['budget']\n",
    "data['release_month'] = data.release_date.apply(lambda x: int(x.split('/')[0]))\n",
    "data['title_len'] = data.original_title.apply(lambda x: len(x))\n",
    "data['descr_len'] = data.overview.apply(lambda x: len(x.split(' ')))\n",
    "\n",
    "# функция для определения имени фильма из выборки\n",
    "def get_film_name(films_dataset):\n",
    "    film = films_dataset[['original_title', 'imdb_id']].values[0]\n",
    "    return f'{film[0]} ({film[1]})'\n",
    "\n",
    "# функция для получения словаря с количеством\n",
    "def get_counts_dict(dataset, column, separator='|'):\n",
    "    counts_dict = {}\n",
    "    for row in dataset[column].str.split(separator):\n",
    "        for value in row:\n",
    "            if value not in counts_dict:\n",
    "                counts_dict[value] = 1\n",
    "            else:\n",
    "                counts_dict[value] += 1\n",
    "    return counts_dict\n",
    "\n",
    "# функция для получения топового значения\n",
    "def get_top_value(prepared_dict):\n",
    "    # сортируем подготовленный словарь, возвращаем только текст из первой строки\n",
    "    return sorted(\n",
    "        prepared_dict.items(),\n",
    "        key=operator.itemgetter(1),\n",
    "        reverse=True\n",
    "    )[0][0]\n",
    "\n"
   ]
  },
  {
   "cell_type": "markdown",
   "metadata": {
    "colab_type": "text",
    "id": "YxZaH-nPVp-L"
   },
   "source": [
    "# 1. У какого фильма из списка самый большой бюджет?"
   ]
  },
  {
   "cell_type": "code",
   "execution_count": 5,
   "metadata": {
    "colab": {},
    "colab_type": "code",
    "id": "uVnXAY5RVp-O"
   },
   "outputs": [],
   "source": [
    "answers['1'] = get_film_name(\n",
    "    data[data.budget == data.budget.max()]\n",
    ")"
   ]
  },
  {
   "cell_type": "markdown",
   "metadata": {
    "colab_type": "text",
    "id": "FNRbbI3vVp-c"
   },
   "source": [
    "# 2. Какой из фильмов самый длительный (в минутах)?"
   ]
  },
  {
   "cell_type": "code",
   "execution_count": 6,
   "metadata": {
    "colab": {},
    "colab_type": "code",
    "id": "vHAoEXNTVp-d"
   },
   "outputs": [],
   "source": [
    "answers['2'] = get_film_name(\n",
    "    data[data.runtime == data.runtime.max()][['original_title', 'imdb_id']]\n",
    ")"
   ]
  },
  {
   "cell_type": "markdown",
   "metadata": {
    "colab_type": "text",
    "id": "bapLlpW8Vp-k"
   },
   "source": [
    "# 3. Какой из фильмов самый короткий (в минутах)?\n",
    "\n",
    "\n",
    "\n"
   ]
  },
  {
   "cell_type": "code",
   "execution_count": 7,
   "metadata": {
    "colab": {},
    "colab_type": "code",
    "id": "YBxaSHuAVp-l"
   },
   "outputs": [],
   "source": [
    "answers['3'] = get_film_name(\n",
    "    data[data.runtime == data.runtime.min()]\n",
    ")"
   ]
  },
  {
   "cell_type": "markdown",
   "metadata": {
    "colab_type": "text",
    "id": "TfQbxbfNVp-p"
   },
   "source": [
    "# 4. Какова средняя длительность фильмов?\n"
   ]
  },
  {
   "cell_type": "code",
   "execution_count": 8,
   "metadata": {
    "colab": {},
    "colab_type": "code",
    "id": "5K6dKZYVVp-q"
   },
   "outputs": [],
   "source": [
    "answers['4'] = round(data.runtime.mean())"
   ]
  },
  {
   "cell_type": "markdown",
   "metadata": {
    "colab_type": "text",
    "id": "r5TvbnT_Vp-u"
   },
   "source": [
    "# 5. Каково медианное значение длительности фильмов? "
   ]
  },
  {
   "cell_type": "code",
   "execution_count": 9,
   "metadata": {
    "colab": {},
    "colab_type": "code",
    "id": "iBROplKnVp-v"
   },
   "outputs": [],
   "source": [
    "answers['5'] = data.runtime.median()"
   ]
  },
  {
   "cell_type": "markdown",
   "metadata": {
    "colab_type": "text",
    "id": "39P-deDSVp-y"
   },
   "source": [
    "# 6. Какой самый прибыльный фильм?\n",
    "#### Внимание! Здесь и далее под «прибылью» или «убытками» понимается разность между сборами и бюджетом фильма. (прибыль = сборы - бюджет) в нашем датасете это будет (profit = revenue - budget) "
   ]
  },
  {
   "cell_type": "code",
   "execution_count": 10,
   "metadata": {
    "colab": {},
    "colab_type": "code",
    "id": "UYZh4T9WVp-y"
   },
   "outputs": [],
   "source": [
    "answers['6'] = get_film_name(\n",
    "    data[data.profit == data.profit.max()]\n",
    ")"
   ]
  },
  {
   "cell_type": "markdown",
   "metadata": {
    "colab_type": "text",
    "id": "M99JmIX4Vp-2"
   },
   "source": [
    "# 7. Какой фильм самый убыточный? "
   ]
  },
  {
   "cell_type": "code",
   "execution_count": 11,
   "metadata": {
    "colab": {},
    "colab_type": "code",
    "id": "w-D2m4XPVp-3"
   },
   "outputs": [],
   "source": [
    "answers['7'] = get_film_name(\n",
    "    data[data.profit == data.profit.min()]\n",
    ")"
   ]
  },
  {
   "cell_type": "markdown",
   "metadata": {
    "colab_type": "text",
    "id": "wEOM5ERVVp-6"
   },
   "source": [
    "# 8. У скольких фильмов из датасета объем сборов оказался выше бюджета?"
   ]
  },
  {
   "cell_type": "code",
   "execution_count": 12,
   "metadata": {
    "colab": {},
    "colab_type": "code",
    "id": "y00_7HD6Vp-7"
   },
   "outputs": [],
   "source": [
    "answers['8'] = data[data.revenue > data.budget].count()[0]"
   ]
  },
  {
   "cell_type": "markdown",
   "metadata": {
    "colab_type": "text",
    "id": "xhpspA9KVp_A"
   },
   "source": [
    "# 9. Какой фильм оказался самым кассовым в 2008 году?"
   ]
  },
  {
   "cell_type": "code",
   "execution_count": 13,
   "metadata": {
    "colab": {},
    "colab_type": "code",
    "id": "MoUyQr9RVp_B"
   },
   "outputs": [],
   "source": [
    "part_data = data[data.release_year == 2008]\n",
    "answers['9'] = get_film_name(\n",
    "    part_data[part_data.revenue == part_data.revenue.max()]\n",
    ")"
   ]
  },
  {
   "cell_type": "markdown",
   "metadata": {
    "colab_type": "text",
    "id": "Zi4hDKidVp_F"
   },
   "source": [
    "# 10. Самый убыточный фильм за период с 2012 по 2014 г. (включительно)?\n"
   ]
  },
  {
   "cell_type": "code",
   "execution_count": 14,
   "metadata": {
    "colab": {},
    "colab_type": "code",
    "id": "XqyRmufJVp_F"
   },
   "outputs": [],
   "source": [
    "part_data = data[(data.release_year >= 2012) & (data.release_year <= 2014)]\n",
    "answers['10'] = get_film_name(\n",
    "    part_data[part_data.profit == part_data.profit.min()]\n",
    ")"
   ]
  },
  {
   "cell_type": "markdown",
   "metadata": {
    "colab_type": "text",
    "id": "EA7Sa9dkVp_I"
   },
   "source": [
    "# 11. Какого жанра фильмов больше всего?"
   ]
  },
  {
   "cell_type": "code",
   "execution_count": 15,
   "metadata": {
    "colab": {},
    "colab_type": "code",
    "id": "zsJAwJ8QVp_J"
   },
   "outputs": [],
   "source": [
    "# вариант 1 - перебор всех вариантов и запись их в словарь\n",
    "genres_count = get_counts_dict(data, 'genres')\n",
    "\n",
    "answers['11'] = get_top_value(genres_count)"
   ]
  },
  {
   "cell_type": "code",
   "execution_count": 16,
   "metadata": {
    "colab": {},
    "colab_type": "code",
    "id": "otO3SbrSVp_N",
    "tags": []
   },
   "outputs": [],
   "source": [
    "# вариант 2 - получить новую таблицу, в каждой строке которой будет по жанру\n",
    "# В качетсве ответа возьмём самый повторяемый вариант\n",
    "\n",
    "answer_11 = pd.DataFrame(\n",
    "    {'genre': np.concatenate(data.genres.str.split('|').values)}\n",
    ").describe().loc['top'][0]\n",
    "\n",
    "# убедимся, что полученный ответ совпадает с первым вариантом\n",
    "assert answer_11 == answers['11'], 'Alternate answer is not equal to base answer'"
   ]
  },
  {
   "cell_type": "markdown",
   "metadata": {
    "colab_type": "text",
    "id": "T9_bPWpkVp_Q"
   },
   "source": [
    "# 12. Фильмы какого жанра чаще всего становятся прибыльными? "
   ]
  },
  {
   "cell_type": "code",
   "execution_count": 17,
   "metadata": {
    "colab": {},
    "colab_type": "code",
    "id": "Tmt8MaK1Vp_R"
   },
   "outputs": [],
   "source": [
    "# создадим словарь с жанрами, сохраняя в него массив с прибылями\n",
    "genres_profit = {}\n",
    "\n",
    "for x in data[['genres', 'profit']].values:\n",
    "    genres = x[0]\n",
    "    profit = x[1]\n",
    "    for genre in genres.split('|'):\n",
    "        if genre not in genres_profit:\n",
    "            genres_profit[genre] = []\n",
    "        genres_profit[genre].append(profit)\n",
    "\n",
    "# посчитаем среднюю прибыль по жанрам\n",
    "genres_profit = {x: (sum(genres_profit[x]) / len(genres_profit[x])) for x in genres_profit}\n",
    "\n",
    "# ответ на \"Фильмы какого жанра чаще всего становятся прибыльными\"\n",
    "answers['12'] = get_top_value(genres_profit)  # Fantasy\n",
    "\n",
    "# ответ на \"Какого жанра среди прибыльных фильмов больше всего\"\n",
    "genres_count = get_counts_dict(data[data.profit > 0], 'genres')\n",
    "answers['12'] = get_top_value(genres_count)  # Drama"
   ]
  },
  {
   "cell_type": "markdown",
   "metadata": {
    "colab_type": "text",
    "id": "0F23bgsDVp_U"
   },
   "source": [
    "# 13. У какого режиссера самые большие суммарные кассовые сборы?"
   ]
  },
  {
   "cell_type": "code",
   "execution_count": 18,
   "metadata": {
    "colab": {},
    "colab_type": "code",
    "id": "K6Z3J8ygVp_X"
   },
   "outputs": [],
   "source": [
    "answers['13'] = data.groupby(['director']).revenue.sum().sort_values(ascending=False).index[0]"
   ]
  },
  {
   "cell_type": "markdown",
   "metadata": {
    "colab_type": "text",
    "id": "PsYC9FgRVp_a"
   },
   "source": [
    "# 14. Какой режисер снял больше всего фильмов в стиле Action?"
   ]
  },
  {
   "cell_type": "code",
   "execution_count": 19,
   "metadata": {
    "colab": {},
    "colab_type": "code",
    "id": "wd2M-wHeVp_b"
   },
   "outputs": [],
   "source": [
    "\"\"\"  !!! Ошибка !!!\n",
    "Paul W.S. Anderson    7\n",
    "Michael Bay           7\n",
    "Robert Rodriguez      6\n",
    "Antoine Fuqua         6\n",
    "Ridley Scott          6\n",
    "Правильный ответ - Paul W.S. Anderson или Michael Bay\n",
    "Неправильно, что Robert Rodriguez принимается, а Ridley Scott считается ошибкой, хотя оба сняли одинаковое кол-во фильмов\n",
    "\"\"\" \n",
    "\n",
    "directors = {}\n",
    "\n",
    "# Вариант 1 - перебор\n",
    "for x in data[['genres', 'director']].values:\n",
    "    genres = x[0]\n",
    "    director = x[1]\n",
    "    if 'Action' in x[0]:\n",
    "        if director not in directors:\n",
    "            directors[director] = 1\n",
    "        else:\n",
    "            directors[director] += 1\n",
    "\n",
    "directors = sorted(\n",
    "    directors.items(),\n",
    "    key=operator.itemgetter(1),\n",
    "    reverse=True\n",
    ")\n",
    "\n",
    "# Вариант 2 - берём выборку по количеству фильмов в стиле Action \n",
    "directors_series = data[data['genres'].str.contains(\"Action\")].director.value_counts()\n",
    "directors = [x for x in zip(directors_series.index, directors_series.values)][:5]\n",
    "\n",
    "answer_options = ['Ridley Scott', 'Guy Ritchie', 'Robert Rodriguez', 'Quentin Tarantino', 'Tony Scott']\n",
    "answers['14'] = [x[0] for x in directors if x[0] in answer_options][0]"
   ]
  },
  {
   "cell_type": "markdown",
   "metadata": {
    "colab_type": "text",
    "id": "PQ0KciD7Vp_f"
   },
   "source": [
    "# 15. Фильмы с каким актером принесли самые высокие кассовые сборы в 2012 году? "
   ]
  },
  {
   "cell_type": "code",
   "execution_count": 20,
   "metadata": {
    "colab": {},
    "colab_type": "code",
    "id": "aga62oeKVp_g"
   },
   "outputs": [],
   "source": [
    "part_data = data[data.release_year == 2012]\n",
    "most_revenue_actors = part_data[part_data.revenue == part_data.revenue.max()].cast.values[0].split('|')\n",
    "answer_options = ['Nicolas Cage', 'Tom Hardy', 'Chris Hemsworth', 'Jim Sturgess', 'Emma Stone']\n",
    "answers['15'] = [x for x in most_revenue_actors if x in answer_options][0]"
   ]
  },
  {
   "cell_type": "markdown",
   "metadata": {
    "colab_type": "text",
    "id": "mWHyyL7QVp_j"
   },
   "source": [
    "# 16. Какой актер снялся в большем количестве высокобюджетных фильмов? (бюджет выше среднего)"
   ]
  },
  {
   "cell_type": "code",
   "execution_count": 21,
   "metadata": {
    "colab": {},
    "colab_type": "code",
    "id": "qQtmHKTFVp_k"
   },
   "outputs": [],
   "source": [
    "actors = get_counts_dict(data[data.budget > data.budget.mean()], 'cast')\n",
    "answers['16'] = get_top_value(actors)"
   ]
  },
  {
   "cell_type": "markdown",
   "metadata": {
    "colab_type": "text",
    "id": "NIh6AaW5Vp_n"
   },
   "source": [
    "# 17. В фильмах какого жанра больше всего снимался Nicolas Cage? "
   ]
  },
  {
   "cell_type": "code",
   "execution_count": 22,
   "metadata": {
    "colab": {},
    "colab_type": "code",
    "id": "H74SJDIBVp_n"
   },
   "outputs": [],
   "source": [
    "genres = get_counts_dict(data[data['cast'].str.contains(\"Nicolas Cage\")], 'genres')\n",
    "answers['17'] = get_top_value(genres)"
   ]
  },
  {
   "cell_type": "markdown",
   "metadata": {
    "colab_type": "text",
    "id": "RqOmPRfWVp_q"
   },
   "source": [
    "# 18. Самый убыточный фильм от Paramount Pictures"
   ]
  },
  {
   "cell_type": "code",
   "execution_count": 23,
   "metadata": {
    "colab": {},
    "colab_type": "code",
    "id": "9E_B0Y96Vp_r"
   },
   "outputs": [],
   "source": [
    "paramount_films = data[data['production_companies'].str.contains(\"Paramount Pictures\")]\n",
    "answers['18'] = get_film_name(\n",
    "    paramount_films[paramount_films.profit == paramount_films.profit.min()]\n",
    ")"
   ]
  },
  {
   "cell_type": "markdown",
   "metadata": {
    "colab_type": "text",
    "id": "vS8Ur6ddVp_u"
   },
   "source": [
    "# 19. Какой год стал самым успешным по суммарным кассовым сборам?"
   ]
  },
  {
   "cell_type": "code",
   "execution_count": 24,
   "metadata": {
    "colab": {},
    "colab_type": "code",
    "id": "Dnbt4GdIVp_v"
   },
   "outputs": [],
   "source": [
    "sum_rev = data.pivot_table(values = 'revenue', index = 'release_year', fill_value=0, aggfunc = 'sum')\n",
    "answers['19'] = sum_rev[sum_rev.revenue == sum_rev.revenue.max()].index[0]"
   ]
  },
  {
   "cell_type": "markdown",
   "metadata": {
    "colab_type": "text",
    "id": "JAzJh4QAVp_z"
   },
   "source": [
    "# 20. Какой самый прибыльный год для студии Warner Bros?"
   ]
  },
  {
   "cell_type": "code",
   "execution_count": 25,
   "metadata": {
    "colab": {},
    "colab_type": "code",
    "id": "wgVu02DEVp_0"
   },
   "outputs": [],
   "source": [
    "warn_data = data[data['production_companies'].str.contains('Warner Bros')]\n",
    "sum_rev = warn_data.pivot_table(values = 'revenue', index = 'release_year', fill_value=0, aggfunc = 'sum')\n",
    "answers['20'] = sum_rev[sum_rev.revenue == sum_rev.revenue.max()].index[0]"
   ]
  },
  {
   "cell_type": "markdown",
   "metadata": {
    "colab_type": "text",
    "id": "8Im1S2HRVp_4"
   },
   "source": [
    "# 21. В каком месяце за все годы суммарно вышло больше всего фильмов?"
   ]
  },
  {
   "cell_type": "code",
   "execution_count": 26,
   "metadata": {
    "colab": {},
    "colab_type": "code",
    "id": "lev6TH7gVp_4"
   },
   "outputs": [],
   "source": [
    "month_pivot = data.pivot_table(columns = 'release_month', aggfunc = 'count').iloc[0]\n",
    "answers['21'] = calendar.month_name[month_pivot.idxmax()]"
   ]
  },
  {
   "cell_type": "markdown",
   "metadata": {
    "colab_type": "text",
    "id": "uAJsZ_NeVp_7"
   },
   "source": [
    "# 22. Сколько суммарно вышло фильмов летом? (за июнь, июль, август)"
   ]
  },
  {
   "cell_type": "code",
   "execution_count": 27,
   "metadata": {
    "colab": {},
    "colab_type": "code",
    "id": "Aa-hEREoVp_8"
   },
   "outputs": [],
   "source": [
    "answers['22'] = sum(\n",
    "    data[\n",
    "        data.release_month.isin([6, 7, 8])\n",
    "    ].pivot_table(columns = 'release_month', aggfunc = 'count').iloc[0].values\n",
    ")"
   ]
  },
  {
   "cell_type": "markdown",
   "metadata": {
    "colab_type": "text",
    "id": "G94ppOY1VqAA"
   },
   "source": [
    "# 23. Для какого режиссера зима – самое продуктивное время года? "
   ]
  },
  {
   "cell_type": "code",
   "execution_count": 28,
   "metadata": {
    "colab": {},
    "colab_type": "code",
    "id": "RhNTsamuVqAB"
   },
   "outputs": [],
   "source": [
    "winter_directors = data[(data['release_month'] <= 2) | (data['release_month'] == 12)]\n",
    "winter_pivot = winter_directors.pivot_table(index='director', values='imdb_id', aggfunc = 'count')\n",
    "answers['23'] = winter_pivot[winter_pivot['imdb_id'] == winter_pivot['imdb_id'].max()].index[0]"
   ]
  },
  {
   "cell_type": "markdown",
   "metadata": {
    "colab_type": "text",
    "id": "RBo0JVjVVqAF"
   },
   "source": [
    "# 24. Какая студия дает самые длинные названия своим фильмам по количеству символов?"
   ]
  },
  {
   "cell_type": "code",
   "execution_count": 29,
   "metadata": {
    "colab": {},
    "colab_type": "code",
    "id": "QRGS8L0iVqAG"
   },
   "outputs": [],
   "source": [
    "answers['24'] = data[data['title_len'] == data['title_len'].max()].production_companies.values[0].split('|')[-1]"
   ]
  },
  {
   "cell_type": "markdown",
   "metadata": {
    "colab_type": "text",
    "id": "9G0hbvR7VqAK"
   },
   "source": [
    "# 25. Описание фильмов какой студии в среднем самые длинные по количеству слов?"
   ]
  },
  {
   "cell_type": "code",
   "execution_count": 30,
   "metadata": {
    "colab": {},
    "colab_type": "code",
    "id": "Ge2GsLNxVqAK"
   },
   "outputs": [],
   "source": [
    "answers['25'] = data[data['descr_len'] == data['descr_len'].max()].production_companies.values[0].split('|')[-1]"
   ]
  },
  {
   "cell_type": "markdown",
   "metadata": {
    "colab_type": "text",
    "id": "FJ1AFt90VqAP"
   },
   "source": [
    "# 26. Какие фильмы входят в 1 процент лучших по рейтингу? \n",
    "по vote_average"
   ]
  },
  {
   "cell_type": "code",
   "execution_count": 31,
   "metadata": {
    "colab": {},
    "colab_type": "code",
    "id": "8qmJVq4CVqAQ"
   },
   "outputs": [],
   "source": [
    "best_rating = data.quantile(q=0.99, axis=0, numeric_only=True)['vote_average']\n",
    "data[data['vote_average'] > best_rating].original_title\n",
    "answers['26'] = 'Inside Out, The Dark Knight, 12 Years a Slave'"
   ]
  },
  {
   "cell_type": "markdown",
   "metadata": {
    "colab_type": "text",
    "id": "MdXsUXbCVqAV"
   },
   "source": [
    "# 27. Какие актеры чаще всего снимаются в одном фильме вместе?\n"
   ]
  },
  {
   "cell_type": "code",
   "execution_count": 32,
   "metadata": {},
   "outputs": [],
   "source": [
    "# вариант 1 - проходим по всем актёрам в фильмах, сопоставляя пары в словаре и считая кол-во совпадений\n",
    "cast_rel = {}\n",
    "for actors in data.cast.str.split('|'):\n",
    "    for actor_1 in actors:\n",
    "        for actor_2 in actors:\n",
    "            if actor_1 == actor_2:\n",
    "                continue\n",
    "            rel = f'{actor_1} & {actor_2}'\n",
    "            if rel not in cast_rel:\n",
    "                cast_rel[rel] = 0\n",
    "            cast_rel[rel] += 1\n",
    "\n",
    "answers['27'] = get_top_value(cast_rel)  # Daniel Radcliffe & Rupert Grint"
   ]
  },
  {
   "cell_type": "code",
   "execution_count": 33,
   "metadata": {},
   "outputs": [],
   "source": [
    "# вариант 2\n",
    "\n",
    "data_cast = pd.DataFrame({\n",
    "    'cast': sorted(data.cast.str.split('|').values)\n",
    "})\n",
    "\n",
    "data_cast['pairs'] = data_cast.cast.apply(lambda x: combinations(x, 2))\n",
    "\n",
    "f = [item for sublist in data_cast['pairs'].values for item in sublist]\n",
    "\n",
    "answer_27 = ' & '.join(Counter(f).most_common()[1][0])\n",
    "\n",
    "# убедимся, что полученный ответ совпадает с первым вариантом\n",
    "assert answer_27 == answers['27'], 'Alternate answer is not equal to base answer'"
   ]
  },
  {
   "cell_type": "markdown",
   "metadata": {
    "colab_type": "text",
    "id": "U0nONFnGVqAX"
   },
   "source": [
    "# Submission"
   ]
  },
  {
   "cell_type": "code",
   "execution_count": 34,
   "metadata": {
    "colab": {},
    "colab_type": "code",
    "id": "IfcaRO9-VqAX",
    "outputId": "0f132912-32bb-4196-c98c-abfbc4ad5a5f"
   },
   "outputs": [
    {
     "data": {
      "text/plain": [
       "{'1': 'Pirates of the Caribbean: On Stranger Tides (tt1298650)',\n",
       " '2': 'Gods and Generals (tt0279111)',\n",
       " '3': 'Winnie the Pooh (tt1449283)',\n",
       " '4': 110,\n",
       " '5': 107.0,\n",
       " '6': 'Avatar (tt0499549)',\n",
       " '7': 'The Lone Ranger (tt1210819)',\n",
       " '8': 1478,\n",
       " '9': 'The Dark Knight (tt0468569)',\n",
       " '10': 'The Lone Ranger (tt1210819)',\n",
       " '11': 'Drama',\n",
       " '12': 'Drama',\n",
       " '13': 'Peter Jackson',\n",
       " '14': 'Robert Rodriguez',\n",
       " '15': 'Chris Hemsworth',\n",
       " '16': 'Matt Damon',\n",
       " '17': 'Action',\n",
       " '18': 'K-19: The Widowmaker (tt0267626)',\n",
       " '19': 2015,\n",
       " '20': 2014,\n",
       " '21': 'September',\n",
       " '22': 450,\n",
       " '23': 'Peter Jackson',\n",
       " '24': 'Four By Two Productions',\n",
       " '25': 'Midnight Picture Show',\n",
       " '26': 'Inside Out, The Dark Knight, 12 Years a Slave',\n",
       " '27': 'Daniel Radcliffe & Rupert Grint'}"
      ]
     },
     "execution_count": 34,
     "metadata": {},
     "output_type": "execute_result"
    }
   ],
   "source": [
    "# в конце можно посмотреть свои ответы к каждому вопросу\n",
    "answers"
   ]
  },
  {
   "cell_type": "code",
   "execution_count": 35,
   "metadata": {
    "colab": {},
    "colab_type": "code",
    "id": "SiRmHPl8VqAd"
   },
   "outputs": [
    {
     "data": {
      "text/plain": [
       "27"
      ]
     },
     "execution_count": 35,
     "metadata": {},
     "output_type": "execute_result"
    }
   ],
   "source": [
    "# и убедиться что ни чего не пропустил)\n",
    "len(answers)"
   ]
  }
 ],
 "metadata": {
  "colab": {
   "name": "Copy of [SF-DST] Movies IMBD v4.1 TEMPLATE.ipynb",
   "provenance": []
  },
  "kernelspec": {
   "display_name": "Python 3 (ipykernel)",
   "language": "python",
   "name": "python3"
  },
  "language_info": {
   "codemirror_mode": {
    "name": "ipython",
    "version": 3
   },
   "file_extension": ".py",
   "mimetype": "text/x-python",
   "name": "python",
   "nbconvert_exporter": "python",
   "pygments_lexer": "ipython3",
   "version": "3.8.10"
  }
 },
 "nbformat": 4,
 "nbformat_minor": 4
}
